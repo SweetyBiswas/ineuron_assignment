{
 "cells": [
  {
   "cell_type": "markdown",
   "id": "680effbf",
   "metadata": {},
   "source": [
    "### 1. Create a function in python to read the text file and replace specific content of the file."
   ]
  },
  {
   "cell_type": "code",
   "execution_count": 3,
   "id": "018599ac",
   "metadata": {},
   "outputs": [
    {
     "name": "stdout",
     "output_type": "stream",
     "text": [
      "String replaced\n"
     ]
    }
   ],
   "source": [
    "search_string = \"placement\"\n",
    "replace_string = \"screening\"\n",
    "\n",
    "with open(r'example.txt', 'r') as file:\n",
    "    data = file.read()\n",
    "    data = data.replace(search_string, replace_string)\n",
    "\n",
    "with open(r'example.txt', 'w') as file:\n",
    "    file.write(data)\n",
    "    \n",
    "print(\"String replaced\")"
   ]
  },
  {
   "cell_type": "markdown",
   "id": "73661ebb",
   "metadata": {},
   "source": [
    "### 2. Demonstrate use of abstract class, multiple inheritance and decorator in python using examples."
   ]
  },
  {
   "cell_type": "markdown",
   "id": "a389e8a6",
   "metadata": {},
   "source": [
    "#### Abstract Class"
   ]
  },
  {
   "cell_type": "raw",
   "id": "08aa1233",
   "metadata": {},
   "source": [
    "An abstract class can be considered as a blueprint for other classes. It allows you to create a set of methods that must be created within any child classes built from the abstract class. A class which contains one or more abstract methods is called an abstract class. An abstract method is a method that has a declaration but does not have an implementation. While we are designing large functional units we use an abstract class. When we want to provide a common interface for different implementations of a component, we use an abstract class. \n",
    "  \n",
    "Why use Abstract Base Classes : \n",
    "By defining an abstract base class, you can define a common Application Program Interface(API) for a set of subclasses. This capability is especially useful in situations where a third-party is going to provide implementations, such as with plugins, but can also help you when working in a large team or with a large code-base where keeping all classes in your mind is difficult or not possible. \n",
    "  \n",
    "How Abstract Base classes work : \n",
    "By default, Python does not provide abstract classes. Python comes with a module that provides the base for defining Abstract Base classes(ABC) and that module name is ABC. ABC works by decorating methods of the base class as abstract and then registering concrete classes as implementations of the abstract base. A method becomes abstract when decorated with the keyword @abstractmethod. For Example"
   ]
  },
  {
   "cell_type": "code",
   "execution_count": 6,
   "id": "d21c7098",
   "metadata": {},
   "outputs": [
    {
     "name": "stdout",
     "output_type": "stream",
     "text": [
      "I have 3 sides\n",
      "I have 4 sides\n",
      "I have 5 sides\n",
      "I have 6 sides\n"
     ]
    }
   ],
   "source": [
    "# Python program showing\n",
    "# abstract base class work\n",
    "\n",
    "from abc import ABC, abstractmethod\n",
    " \n",
    "class Polygon(ABC):\n",
    " \n",
    "    @abstractmethod\n",
    "    def noofsides(self):\n",
    "        pass\n",
    "class Triangle(Polygon):\n",
    " \n",
    "    # overriding abstract method\n",
    "    def noofsides(self):\n",
    "        print(\"I have 3 sides\")\n",
    "class Pentagon(Polygon):\n",
    " \n",
    "    # overriding abstract method\n",
    "    def noofsides(self):\n",
    "        print(\"I have 5 sides\")\n",
    "class Hexagon(Polygon):\n",
    " \n",
    "    # overriding abstract method\n",
    "    def noofsides(self):\n",
    "        print(\"I have 6 sides\")\n",
    "class Quadrilateral(Polygon):\n",
    " \n",
    "    # overriding abstract method\n",
    "    def noofsides(self):\n",
    "        print(\"I have 4 sides\") \n",
    "# Driver code\n",
    "R = Triangle()\n",
    "R.noofsides()\n",
    " \n",
    "K = Quadrilateral()\n",
    "K.noofsides()\n",
    " \n",
    "R = Pentagon()\n",
    "R.noofsides()\n",
    " \n",
    "K = Hexagon()\n",
    "K.noofsides()"
   ]
  },
  {
   "cell_type": "code",
   "execution_count": null,
   "id": "7c4199f3",
   "metadata": {},
   "outputs": [],
   "source": []
  },
  {
   "cell_type": "markdown",
   "id": "36890cbb",
   "metadata": {},
   "source": [
    "#### Multiple inheritance"
   ]
  },
  {
   "cell_type": "raw",
   "id": "117edd2f",
   "metadata": {},
   "source": [
    "Inheritance is the mechanism to achieve the re-usability of code as one class(child class) can derive the properties of another class(parent class). It also provides transitivity ie. if class C inherits from P then all the sub-classes of C would also inherit from P."
   ]
  },
  {
   "cell_type": "raw",
   "id": "02691411",
   "metadata": {},
   "source": [
    "When a class is derived from more than one base class it is called multiple Inheritance. The derived class inherits all the features of the base case."
   ]
  },
  {
   "cell_type": "code",
   "execution_count": 5,
   "id": "010c8d0e",
   "metadata": {},
   "outputs": [
    {
     "name": "stdout",
     "output_type": "stream",
     "text": [
      "Type of Employee :  Part Time\n",
      "Employee Id :  10\n",
      "Employee Name :  Sweety Biswas\n",
      "Employee Department :  Data Science\n"
     ]
    }
   ],
   "source": [
    "class Human:   #parent\n",
    "    def __init__(self):\n",
    "        self.type=\"\"\n",
    "        self.id=0\n",
    "        \n",
    "    def set_id(self,i):\n",
    "        self.id=i\n",
    "        \n",
    "    def get_id(self):\n",
    "        return self.id\n",
    "    \n",
    "class Employee:   #parent\n",
    "    def __init__(self):\n",
    "        self.name=\"\"\n",
    "        \n",
    "    def set_name(self,n):\n",
    "        self.name=n\n",
    "        \n",
    "    def get_name(self):\n",
    "        return self.name\n",
    "    \n",
    "class Department(Human,Employee):   #child\n",
    "    def __init__(self):\n",
    "        Human.__init__(self)\n",
    "        Employee.__init__(self)\n",
    "        \n",
    "        self.dept=\"\"\n",
    "        \n",
    "    def set_dept(self,d):\n",
    "        \n",
    "        self.dept=d\n",
    "        \n",
    "    def get_dept(self):\n",
    "        return self.dept\n",
    "    \n",
    "    def print_data(self):\n",
    "        type=self.type\n",
    "        print(\"Type of Employee : \",type)\n",
    "        id=self.get_id()\n",
    "        print(\"Employee Id : \",id)\n",
    "        name=self.get_name()\n",
    "        print(\"Employee Name : \",name)\n",
    "        dep=self.get_dept()\n",
    "        print(\"Employee Department : \",dep)\n",
    "        \n",
    "o=Department()\n",
    "o.type=\"Part Time\"\n",
    "o.set_id(10)\n",
    "o.set_name(\"Sweety Biswas\")\n",
    "o.set_dept(\"Data Science\")\n",
    "o.print_data()\n",
    "    "
   ]
  },
  {
   "cell_type": "markdown",
   "id": "65e89b6e",
   "metadata": {},
   "source": [
    "#### Decorator in python"
   ]
  },
  {
   "cell_type": "raw",
   "id": "f47adcb5",
   "metadata": {},
   "source": [
    "Decorators are a very powerful and useful tool in Python since it allow us to modify the behaviour of a function or class. Decorators allow us to wrap another function in order to extend the behaviour of the wrapped function, without permanently modifying it."
   ]
  },
  {
   "cell_type": "code",
   "execution_count": 14,
   "id": "3921f350",
   "metadata": {},
   "outputs": [],
   "source": [
    "def make_pretty(func):\n",
    "    def inner():\n",
    "        print(\"I got decorated\")\n",
    "        func()\n",
    "    return inner\n",
    "\n",
    "@make_pretty\n",
    "def ordinary():\n",
    "    print(\"I am ordinary\")"
   ]
  },
  {
   "cell_type": "code",
   "execution_count": 15,
   "id": "f25a1ff6",
   "metadata": {},
   "outputs": [
    {
     "name": "stdout",
     "output_type": "stream",
     "text": [
      "I got decorated\n",
      "I am ordinary\n"
     ]
    }
   ],
   "source": [
    "ordinary()"
   ]
  },
  {
   "cell_type": "code",
   "execution_count": 16,
   "id": "f83a814b",
   "metadata": {},
   "outputs": [],
   "source": [
    "def decorator_divide(func):\n",
    "    def inner(a, b):\n",
    "        print(\"I am going to divide\", a, \"and\", b)\n",
    "        if b == 0:\n",
    "            print(\"Whoops! cannot divide\")\n",
    "            return\n",
    "\n",
    "        return func(a, b)\n",
    "    return inner\n",
    "\n",
    "\n",
    "@decorator_divide\n",
    "def divide(a, b):\n",
    "    print(a/b)"
   ]
  },
  {
   "cell_type": "code",
   "execution_count": 19,
   "id": "6a1c1857",
   "metadata": {},
   "outputs": [
    {
     "name": "stdout",
     "output_type": "stream",
     "text": [
      "I am going to divide 12 and 0\n",
      "Whoops! cannot divide\n"
     ]
    }
   ],
   "source": [
    "divide(12,0)"
   ]
  },
  {
   "cell_type": "code",
   "execution_count": null,
   "id": "4477e1cf",
   "metadata": {},
   "outputs": [],
   "source": []
  }
 ],
 "metadata": {
  "kernelspec": {
   "display_name": "Python 3",
   "language": "python",
   "name": "python3"
  },
  "language_info": {
   "codemirror_mode": {
    "name": "ipython",
    "version": 3
   },
   "file_extension": ".py",
   "mimetype": "text/x-python",
   "name": "python",
   "nbconvert_exporter": "python",
   "pygments_lexer": "ipython3",
   "version": "3.8.8"
  }
 },
 "nbformat": 4,
 "nbformat_minor": 5
}
